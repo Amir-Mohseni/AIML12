{
 "cells": [
  {
   "cell_type": "markdown",
   "metadata": {},
   "source": [
    "# Installation"
   ]
  },
  {
   "cell_type": "code",
   "execution_count": 5,
   "metadata": {},
   "outputs": [],
   "source": [
    "%%capture\n",
    "!pip install tensorboard ipykernel"
   ]
  },
  {
   "cell_type": "markdown",
   "metadata": {},
   "source": [
    "# Importing the libraries"
   ]
  },
  {
   "cell_type": "code",
   "execution_count": 6,
   "metadata": {},
   "outputs": [],
   "source": [
    "import os\n",
    "from collections import defaultdict\n",
    "import numpy as np\n",
    "import matplotlib.pyplot as plt\n",
    "from tensorboard.backend.event_processing import event_accumulator\n",
    "from matplotlib.ticker import FuncFormatter"
   ]
  },
  {
   "cell_type": "markdown",
   "metadata": {},
   "source": [
    "# Formatting the results"
   ]
  },
  {
   "cell_type": "code",
   "execution_count": 7,
   "metadata": {},
   "outputs": [],
   "source": [
    "def smooth_data(data, smoothing_factor=0.9):\n",
    "    \"\"\"Applies exponential moving average (EMA) to smooth data.\"\"\"\n",
    "    smoothed = []\n",
    "    for i, value in enumerate(data):\n",
    "        if i == 0:\n",
    "            smoothed.append(value)\n",
    "        else:\n",
    "            smoothed.append(smoothing_factor * smoothed[-1] + (1 - smoothing_factor) * value)\n",
    "    return smoothed\n",
    "\n",
    "def format_steps_in_millions(x, pos):\n",
    "    \"\"\"Formats the x-axis labels to display steps in millions.\"\"\"\n",
    "    return f'{x / 1e6:.1f}M'"
   ]
  },
  {
   "cell_type": "markdown",
   "metadata": {},
   "source": [
    "Converts TensorBoard logs to high-quality images.\n",
    "\n",
    "Parameters:\n",
    "- log_dir (str): Directory containing the TensorBoard log subdirectories.\n",
    "- names (list of str): List of names corresponding to each log subdirectory.\n",
    "- output_dir (str): Directory where the images will be saved.\n",
    "- smoothing_factor (float, optional): Smoothing factor for exponential moving average. Default is 0.9.\n",
    "- max_steps (int, optional): Maximum number of steps to include in the plots. Default is 20,000,000.\n",
    "- set_max_point (bool, optional): Whether to show the maximum point on the plots. Default is True.\n",
    "\n",
    "Raises:\n",
    "- ValueError: If the number of names provided is less than the number of log subdirectories.\n",
    "\n",
    "This function processes TensorBoard event files, aggregates scalar data, applies smoothing, and generates\n",
    "high-resolution plots for each metric. The plots are saved as PDF files in the specified output directory."
   ]
  },
  {
   "cell_type": "code",
   "execution_count": 8,
   "metadata": {},
   "outputs": [],
   "source": [
    "def tensorboard_to_images(log_dir, names, output_dir, smoothing_factor=0.9, max_steps=20_000_000, set_max_point=True):\n",
    "    if not os.path.exists(output_dir):\n",
    "        os.makedirs(output_dir)\n",
    "    \n",
    "    # Dictionary to hold aggregated data for each metric\n",
    "    aggregated_data = defaultdict(lambda: defaultdict(list))\n",
    "    \n",
    "    # Get immediate subdirectories of log_dir and sort them alphabetically\n",
    "    log_dirs = sorted([os.path.join(log_dir, sub_dir) for sub_dir in os.listdir(log_dir) if os.path.isdir(os.path.join(log_dir, sub_dir))])\n",
    "    \n",
    "    # Map subdirectories to names\n",
    "    if len(log_dirs) > len(names):\n",
    "        raise ValueError(\"Not enough names provided for the log directories.\")\n",
    "    legend_names = {os.path.basename(log_dirs[i]): names[i] for i in range(len(log_dirs))}\n",
    "    \n",
    "    for i, log_dir in enumerate(log_dirs):\n",
    "        print(f\"log_dir: {log_dir} and names: {names[i]}\")\n",
    "    \n",
    "    for log_dir in log_dirs:\n",
    "        print(f\"Processing {log_dir}...\")\n",
    "        method_name = legend_names.get(os.path.basename(log_dir), os.path.basename(log_dir))\n",
    "        for subdir, _, files in os.walk(log_dir):\n",
    "            for file in files:\n",
    "                if \"events.out.tfevents\" in file:\n",
    "                    event_file = os.path.join(subdir, file)\n",
    "                    ea = event_accumulator.EventAccumulator(event_file)\n",
    "                    ea.Reload()\n",
    "                    \n",
    "                    for tag in ea.Tags()['scalars']:\n",
    "                        events = ea.Scalars(tag)\n",
    "                        steps = [e.step for e in events]\n",
    "                        values = [e.value for e in events]\n",
    "                        \n",
    "                        # Trim steps and values to max_steps\n",
    "                        trimmed_steps = [step for step in steps if step <= max_steps]\n",
    "                        trimmed_values = [values[i] for i, step in enumerate(steps) if step <= max_steps]\n",
    "                        \n",
    "                        # Append trimmed data to the corresponding metric (tag) and method\n",
    "                        aggregated_data[tag][method_name].append((trimmed_steps, trimmed_values))\n",
    "    \n",
    "    # Create a separate plot for each metric (tag)\n",
    "    for tag, methods in aggregated_data.items():\n",
    "        plt.figure(figsize=(10, 6), dpi=300)  # High-resolution output for publication\n",
    "        \n",
    "        # Plot all methods for this metric\n",
    "        for method_name, data in methods.items():\n",
    "            all_steps = []\n",
    "            all_values = []\n",
    "            for steps, values in data:\n",
    "                all_steps.extend(steps)\n",
    "                all_values.extend(values)\n",
    "            \n",
    "            # Sort by steps\n",
    "            sorted_indices = np.argsort(all_steps)\n",
    "            sorted_steps = np.array(all_steps)[sorted_indices]\n",
    "            sorted_values = np.array(all_values)[sorted_indices]\n",
    "            \n",
    "            # Smooth values\n",
    "            smoothed_values = smooth_data(sorted_values, smoothing_factor)\n",
    "            \n",
    "            # Plot the smoothed data\n",
    "            line, = plt.plot(sorted_steps, smoothed_values, label=f\"{method_name}\", linewidth=2)\n",
    "            \n",
    "            # Highlight the maximum value with a red dot (exclude from legend)\n",
    "            max_value = max(smoothed_values)\n",
    "            max_index = np.argmax(smoothed_values)\n",
    "            max_step = sorted_steps[max_index]\n",
    "            if set_max_point:\n",
    "                plt.scatter(max_step, max_value, color='red', zorder=5, label='_nolegend_')  # No legend for this point\n",
    "        \n",
    "        # Enhance plot aesthetics\n",
    "        plt.xlabel('Steps (in Millions)', fontsize=14)\n",
    "        plt.ylabel('Values', fontsize=14)\n",
    "        plt.title(f'TensorBoard Scalars - {tag}', fontsize=16)\n",
    "        plt.legend(fontsize=12)\n",
    "        plt.grid(True, linestyle='--', alpha=0.6)\n",
    "        \n",
    "        # Format x-axis labels to show steps in millions\n",
    "        plt.gca().xaxis.set_major_formatter(FuncFormatter(format_steps_in_millions))\n",
    "        \n",
    "        # Save each plot to a high-quality file\n",
    "        output_image_name = f\"{tag.replace('/', '_')}.pdf\"\n",
    "        plt.savefig(os.path.join(output_dir, output_image_name), format='pdf', bbox_inches='tight')  # Use vector-based format\n",
    "        plt.close()"
   ]
  },
  {
   "cell_type": "code",
   "execution_count": 12,
   "metadata": {},
   "outputs": [
    {
     "name": "stdout",
     "output_type": "stream",
     "text": [
      "log_dir: results_all/F&B_0.0003 and names: Forward and Backward (0.0003)\n",
      "log_dir: results_all/F&B_0.001 and names: Forward and Backward (0.001)\n",
      "log_dir: results_all/F_0.0003 and names: Only Forward (0.0003)\n",
      "log_dir: results_all/F_0.001 and names: Only Forward (0.001)\n",
      "log_dir: results_all/S_0.0003 and names: Sound and Forward (0.0003)\n",
      "log_dir: results_all/S_0.001 and names: Sound and Forward (0.001)\n",
      "Processing results_all/F&B_0.0003...\n",
      "Processing results_all/F&B_0.001...\n",
      "Processing results_all/F_0.0003...\n",
      "Processing results_all/F_0.001...\n",
      "Processing results_all/S_0.0003...\n",
      "Processing results_all/S_0.001...\n"
     ]
    }
   ],
   "source": [
    "# Example usage\n",
    "log_dir = \"results_all\"\n",
    "#names = [\"Foward and Backward\", \"Only Forward\", \"Sound and Forward\"]\n",
    "names = [\"Forward and Backward (0.0003)\", \"Forward and Backward (0.001)\", \"Only Forward (0.0003)\", \"Only Forward (0.001)\", \"Sound and Forward (0.0003)\", \"Sound and Forward (0.001)\"]\n",
    "output_dir = \"combined_results\"\n",
    "tensorboard_to_images(log_dir, names, output_dir, smoothing_factor=0.8, max_steps=20_000_000, set_max_point=False)"
   ]
  },
  {
   "cell_type": "code",
   "execution_count": null,
   "metadata": {},
   "outputs": [],
   "source": []
  }
 ],
 "metadata": {
  "kernelspec": {
   "display_name": "base",
   "language": "python",
   "name": "python3"
  },
  "language_info": {
   "codemirror_mode": {
    "name": "ipython",
    "version": 3
   },
   "file_extension": ".py",
   "mimetype": "text/x-python",
   "name": "python",
   "nbconvert_exporter": "python",
   "pygments_lexer": "ipython3",
   "version": "3.12.7"
  }
 },
 "nbformat": 4,
 "nbformat_minor": 2
}
